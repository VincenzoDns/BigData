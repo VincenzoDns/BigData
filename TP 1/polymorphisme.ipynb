{
 "cells": [
  {
   "cell_type": "code",
   "execution_count": 7,
   "metadata": {},
   "outputs": [
    {
     "name": "stdout",
     "output_type": "stream",
     "text": [
      "\n",
      "\n",
      "Lettre:\n",
      " Adresse de destination: 47 rue de grenelle \n",
      " Adresse d'expedition: 80 boulevard gallieni\n",
      " Poids: 80.00 grammes\n",
      " Mode de livraison: normal \n",
      " Format:A4\n",
      " Prix du timbre:0.20\n",
      "\n",
      "\n",
      "Colis:\n",
      " Adresse de destination: 47 rue de grenelle \n",
      " Adresse d'expedition: 80 boulevard gallieni\n",
      " Poids: 3500.00 grammes\n",
      " Mode de livraison: express \n",
      " Volume: 2.25 litres\n",
      " Prix du timbre:3.94\n"
     ]
    }
   ],
   "source": [
    "class Courrier:\n",
    "\n",
    "    def __init__(self,poids,mode,adresse_destination,adresse_expedition):\n",
    "        self.adresse_destination=adresse_destination\n",
    "        self.adresse_expedition=adresse_expedition\n",
    "        self.poids=poids\n",
    "        self.mode=mode\n",
    "\n",
    "    def toString(self):\n",
    "\n",
    "        print(\" Adresse de destination: %s \\n Adresse d'expedition: %s\\n Poids: %.2f grammes\\n Mode de livraison: %s \"%(self.adresse_destination,self.adresse_expedition,self.poids,self.mode))\n",
    "\n",
    "class Lettre(Courrier):\n",
    "\n",
    "    def __init__(self,poids,mode,adresse_destination,adresse_expedition,format):\n",
    "\n",
    "        Courrier.__init__(self,poids,mode,adresse_destination,adresse_expedition)\n",
    "        self.format=format\n",
    "\n",
    "    def calculTimbre(self):\n",
    "\n",
    "        if self.format==\"A4\":tarif_base=2.5\n",
    "        if self.format==\"A3\":tarif_base=3.5\n",
    "\n",
    "        montant=tarif_base*self.poids/1000\n",
    "\n",
    "        if self.mode==\"express\":montant*=2\n",
    "\n",
    "        return montant\n",
    "\n",
    "    def toString(self):\n",
    "\n",
    "        print(\"Lettre:\")\n",
    "        Courrier.toString(self)\n",
    "        print(\" Format:%s\\n Prix du timbre:%.2f\"%(self.format,self.calculTimbre()))\n",
    "\n",
    "class Colis(Courrier):\n",
    "    def __init__(self,poids,mode,adresse_destination,adresse_expedition,volume):\n",
    "        Courrier.__init__(self,poids,mode,adresse_destination,adresse_expedition)\n",
    "        self.volume=volume\n",
    "    def calculTimbre(self):\n",
    "\n",
    "        montant=0.0\n",
    "\n",
    "        montant=0.25*self.volume*self.poids/1000\n",
    "\n",
    "        if self.mode==\"express\":montant*=2\n",
    "\n",
    "        return montant\n",
    "\n",
    "    def toString(self):\n",
    "\n",
    "        print(\"Colis:\")\n",
    "        Courrier.toString(self)\n",
    "        print(\" Volume: %.2f litres\\n Prix du timbre:%.2f\"%(self.volume,self.calculTimbre()))\n",
    "\n",
    "print('\\n')\n",
    "Lettre=Lettre(80,'normal','47 rue de grenelle','80 boulevard gallieni','A4')\n",
    "Lettre.toString()\n",
    "print('\\n')\n",
    "Colis=Colis(3500,'express','47 rue de grenelle','80 boulevard gallieni',2.25)\n",
    "Colis.toString()"
   ]
  },
  {
   "cell_type": "code",
   "execution_count": null,
   "metadata": {},
   "outputs": [],
   "source": []
  }
 ],
 "metadata": {
  "kernelspec": {
   "display_name": "Python 3",
   "language": "python",
   "name": "python3"
  },
  "language_info": {
   "codemirror_mode": {
    "name": "ipython",
    "version": 3
   },
   "file_extension": ".py",
   "mimetype": "text/x-python",
   "name": "python",
   "nbconvert_exporter": "python",
   "pygments_lexer": "ipython3",
   "version": "3.8.1"
  }
 },
 "nbformat": 4,
 "nbformat_minor": 4
}
