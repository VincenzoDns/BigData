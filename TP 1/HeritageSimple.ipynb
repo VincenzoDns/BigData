{
 "cells": [
  {
   "cell_type": "code",
   "execution_count": 4,
   "metadata": {},
   "outputs": [
    {
     "name": "stdout",
     "output_type": "stream",
     "text": [
      "\n",
      "\n",
      "Jean Dupont née à Paris 14 le 08/07/1621\n",
      "\n",
      "\n",
      "Jean Dupont née à Paris 14 le 08/07/1621\n",
      "Salaire: 2559.59\n",
      "\n",
      "\n",
      "Jean Dupont née à Paris 14 le 08/07/1621\n",
      "Salaire: 2559.59\n",
      "Service : Fable & Poésie\n"
     ]
    }
   ],
   "source": [
    "class DateNaissance:\n",
    "\n",
    "    def __init__(self, jour, mois, annee):\n",
    "\n",
    "        self.jour=jour\n",
    "        self.mois=mois\n",
    "        self.annee=annee\n",
    "\n",
    "    def toString(self):\n",
    "\n",
    "        return \"%02d/%02d/%d\" %(self.jour,self.mois,self.annee)\n",
    "\n",
    "class Personne:\n",
    "\n",
    "    def __init__(self, nom, prenom, ville,date_de_naissance):\n",
    "\n",
    "        self.nom=nom\n",
    "        self.prenom=prenom\n",
    "        self.date_de_naissance=date_de_naissance\n",
    "        self.ville=ville\n",
    "\n",
    "    def afficher(self):\n",
    "\n",
    "        print(\"%s %s née à %s le %s\"%(self.nom,self.prenom,self.ville,self.date_de_naissance.toString()))\n",
    "\n",
    "class Employe(Personne):\n",
    "\n",
    "    def __init__(self, nom,prenom,ville,date_naissance,salaire):\n",
    "        Personne.__init__(self,nom,prenom,ville,date_naissance)\n",
    "        self.salaire=salaire\n",
    "    def afficher(self):\n",
    "        Personne.afficher(self)\n",
    "        print(\"Salaire: %.02f\"%self.salaire)\n",
    "\n",
    "class Chef(Employe):\n",
    "\n",
    "    def __init__(self,nom,prenom,ville,date_naissance,salaire,service):\n",
    "        Employe.__init__(self,nom,prenom,ville,date_naissance,salaire)\n",
    "        self.service=service\n",
    "    def afficher(self):\n",
    "        Employe.afficher(self)\n",
    "        print(\"Service : %s\"%self.service)\n",
    "\n",
    "\n",
    "print('\\n')\n",
    "Test1=Personne('Jean','Dupont', 'Paris 14',DateNaissance(8,7,1621))\n",
    "Test1.afficher()\n",
    "print('\\n')\n",
    "Test2=Employe('Jean','Dupont', 'Paris 14', DateNaissance(8,7,1621), 2559.59)\n",
    "Test2.afficher()\n",
    "print('\\n')\n",
    "Test3=Chef('Jean','Dupont', 'Paris 14', DateNaissance(8,7,1621), 2559.59,'Fable & Poésie')\n",
    "Test3.afficher()"
   ]
  },
  {
   "cell_type": "code",
   "execution_count": null,
   "metadata": {},
   "outputs": [],
   "source": []
  }
 ],
 "metadata": {
  "kernelspec": {
   "display_name": "Python 3",
   "language": "python",
   "name": "python3"
  },
  "language_info": {
   "codemirror_mode": {
    "name": "ipython",
    "version": 3
   },
   "file_extension": ".py",
   "mimetype": "text/x-python",
   "name": "python",
   "nbconvert_exporter": "python",
   "pygments_lexer": "ipython3",
   "version": "3.8.1"
  }
 },
 "nbformat": 4,
 "nbformat_minor": 4
}
