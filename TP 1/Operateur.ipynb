{
 "cells": [
  {
   "cell_type": "code",
   "execution_count": 1,
   "metadata": {},
   "outputs": [
    {
     "name": "stdout",
     "output_type": "stream",
     "text": [
      "P(1.00 , 2.00)\n",
      "P(1.00 , 2.00 , -3.00)\n"
     ]
    }
   ],
   "source": [
    "class Point:\n",
    "\n",
    "    def __init__(self,x,y,z=None):\n",
    "\n",
    "        self.x=x\n",
    "        self.y=y\n",
    "        self.z=z\n",
    "\n",
    "    def toString(self):\n",
    "\n",
    "        if self.z==None:\n",
    "            print(\"P(%.2f , %.2f)\"%(self.x,self.y))\n",
    "        else:\n",
    "            print(\"P(%.2f , %.2f , %.2f)\"%(self.x,self.y,self.z))\n",
    "\n",
    "Point1=Point(1,2)\n",
    "Point1.toString()\n",
    "\n",
    "Point2=Point(1,2,-3)\n",
    "Point2.toString()"
   ]
  },
  {
   "cell_type": "code",
   "execution_count": null,
   "metadata": {},
   "outputs": [],
   "source": []
  }
 ],
 "metadata": {
  "kernelspec": {
   "display_name": "Python 3",
   "language": "python",
   "name": "python3"
  },
  "language_info": {
   "codemirror_mode": {
    "name": "ipython",
    "version": 3
   },
   "file_extension": ".py",
   "mimetype": "text/x-python",
   "name": "python",
   "nbconvert_exporter": "python",
   "pygments_lexer": "ipython3",
   "version": "3.8.1"
  }
 },
 "nbformat": 4,
 "nbformat_minor": 4
}
